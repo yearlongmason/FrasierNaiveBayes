{
 "cells": [
  {
   "cell_type": "markdown",
   "metadata": {},
   "source": [
    "# Analysis of the cleaned Frasier Transcript Dataset\n",
    "\n",
    "This takes a look at the nature of the data, looking into how distinct the different dialects of each main character are"
   ]
  },
  {
   "cell_type": "code",
   "execution_count": 1,
   "metadata": {},
   "outputs": [],
   "source": [
    "# Imports\n",
    "import pandas as pd\n",
    "import matplotlib.pyplot as plt\n",
    "from collections import defaultdict\n",
    "import warnings\n",
    "warnings.filterwarnings(\"ignore\")"
   ]
  },
  {
   "cell_type": "code",
   "execution_count": 2,
   "metadata": {},
   "outputs": [
    {
     "data": {
      "text/html": [
       "<div>\n",
       "<style scoped>\n",
       "    .dataframe tbody tr th:only-of-type {\n",
       "        vertical-align: middle;\n",
       "    }\n",
       "\n",
       "    .dataframe tbody tr th {\n",
       "        vertical-align: top;\n",
       "    }\n",
       "\n",
       "    .dataframe thead th {\n",
       "        text-align: right;\n",
       "    }\n",
       "</style>\n",
       "<table border=\"1\" class=\"dataframe\">\n",
       "  <thead>\n",
       "    <tr style=\"text-align: right;\">\n",
       "      <th></th>\n",
       "      <th>character</th>\n",
       "      <th>lines</th>\n",
       "      <th>season</th>\n",
       "      <th>episode</th>\n",
       "      <th>gender</th>\n",
       "      <th>title</th>\n",
       "      <th>directedBy</th>\n",
       "      <th>writtenBy</th>\n",
       "      <th>originalAirDate</th>\n",
       "      <th>viewershipInMillions</th>\n",
       "      <th>imdbVotes</th>\n",
       "      <th>imdbRatings</th>\n",
       "      <th>characterName</th>\n",
       "      <th>actorName</th>\n",
       "      <th>characterType</th>\n",
       "      <th>episodeCount</th>\n",
       "    </tr>\n",
       "  </thead>\n",
       "  <tbody>\n",
       "    <tr>\n",
       "      <th>0</th>\n",
       "      <td>Frasier</td>\n",
       "      <td>listen to yourself bob you follow her to work ...</td>\n",
       "      <td>1</td>\n",
       "      <td>1</td>\n",
       "      <td>male</td>\n",
       "      <td>The Good Son</td>\n",
       "      <td>James Burrows</td>\n",
       "      <td>David Angell &amp; Peter Casey &amp; David Lee</td>\n",
       "      <td>1993-09-16</td>\n",
       "      <td>28.0</td>\n",
       "      <td>528</td>\n",
       "      <td>8.8</td>\n",
       "      <td>Frasier Crane</td>\n",
       "      <td>Kelsey Grammer</td>\n",
       "      <td>main</td>\n",
       "      <td>1.0</td>\n",
       "    </tr>\n",
       "    <tr>\n",
       "      <th>1</th>\n",
       "      <td>Roz</td>\n",
       "      <td>yes dr crane on line four we have russell from...</td>\n",
       "      <td>1</td>\n",
       "      <td>1</td>\n",
       "      <td>female</td>\n",
       "      <td>The Good Son</td>\n",
       "      <td>James Burrows</td>\n",
       "      <td>David Angell &amp; Peter Casey &amp; David Lee</td>\n",
       "      <td>1993-09-16</td>\n",
       "      <td>28.0</td>\n",
       "      <td>528</td>\n",
       "      <td>8.8</td>\n",
       "      <td>Roz Doyle</td>\n",
       "      <td>Peri Gilpin</td>\n",
       "      <td>main</td>\n",
       "      <td>1.0</td>\n",
       "    </tr>\n",
       "    <tr>\n",
       "      <th>2</th>\n",
       "      <td>Frasier</td>\n",
       "      <td>hello russell this is dr frasier crane im list...</td>\n",
       "      <td>1</td>\n",
       "      <td>1</td>\n",
       "      <td>male</td>\n",
       "      <td>The Good Son</td>\n",
       "      <td>James Burrows</td>\n",
       "      <td>David Angell &amp; Peter Casey &amp; David Lee</td>\n",
       "      <td>1993-09-16</td>\n",
       "      <td>28.0</td>\n",
       "      <td>528</td>\n",
       "      <td>8.8</td>\n",
       "      <td>Frasier Crane</td>\n",
       "      <td>Kelsey Grammer</td>\n",
       "      <td>main</td>\n",
       "      <td>1.0</td>\n",
       "    </tr>\n",
       "  </tbody>\n",
       "</table>\n",
       "</div>"
      ],
      "text/plain": [
       "  character                                              lines season episode  \\\n",
       "0   Frasier  listen to yourself bob you follow her to work ...      1       1   \n",
       "1       Roz  yes dr crane on line four we have russell from...      1       1   \n",
       "2   Frasier  hello russell this is dr frasier crane im list...      1       1   \n",
       "\n",
       "   gender         title     directedBy  \\\n",
       "0    male  The Good Son  James Burrows   \n",
       "1  female  The Good Son  James Burrows   \n",
       "2    male  The Good Son  James Burrows   \n",
       "\n",
       "                                writtenBy originalAirDate  \\\n",
       "0  David Angell & Peter Casey & David Lee      1993-09-16   \n",
       "1  David Angell & Peter Casey & David Lee      1993-09-16   \n",
       "2  David Angell & Peter Casey & David Lee      1993-09-16   \n",
       "\n",
       "  viewershipInMillions imdbVotes imdbRatings  characterName       actorName  \\\n",
       "0                 28.0       528         8.8  Frasier Crane  Kelsey Grammer   \n",
       "1                 28.0       528         8.8      Roz Doyle     Peri Gilpin   \n",
       "2                 28.0       528         8.8  Frasier Crane  Kelsey Grammer   \n",
       "\n",
       "  characterType  episodeCount  \n",
       "0          main           1.0  \n",
       "1          main           1.0  \n",
       "2          main           1.0  "
      ]
     },
     "execution_count": 2,
     "metadata": {},
     "output_type": "execute_result"
    }
   ],
   "source": [
    "data = pd.read_csv(\"./data/cleanedTranscript.csv\")\n",
    "data.head(3)"
   ]
  },
  {
   "cell_type": "markdown",
   "metadata": {},
   "source": [
    "## Word Frequency Analysis"
   ]
  },
  {
   "cell_type": "code",
   "execution_count": 27,
   "metadata": {},
   "outputs": [],
   "source": [
    "def getNMostCommonWords(n: int) -> list[str]:\n",
    "    \"\"\"This gets the top n most common words from a file containing most common english words\"\"\"\n",
    "    with open(\"./data/frasierWordCounts.txt\") as file:\n",
    "        commonWords =  file.read()\n",
    "\n",
    "    # Get just the word from every pair\n",
    "    commonWords = [pair.split()[0] for pair in commonWords.split(\"\\n\")[:-1]]\n",
    "    return commonWords[:n]"
   ]
  },
  {
   "cell_type": "code",
   "execution_count": 28,
   "metadata": {},
   "outputs": [],
   "source": [
    "def getWordCounts(data, character: str=None, wordWeights: dict[str, float]=None) -> dict[str, int]:\n",
    "    \"\"\"This function gets the word frequencies from the lines in a transcript dataset\n",
    "    Params:\n",
    "    data - A Pandas dataframe with transcript data\n",
    "    character - Optional parameter specifying a character to get word frequencies for\n",
    "    Returns: A dictionary of words and their frequency\"\"\"\n",
    "    # If a character is specefied, filter the data by that character\n",
    "    # Otherwise, just keep the data the same\n",
    "    if character:\n",
    "        filteredData = data[data[\"character\"] == character]\n",
    "    else:\n",
    "        filteredData = data\n",
    "\n",
    "    # Get the word counts for each line\n",
    "    wordCounts = defaultdict(int)\n",
    "    for line in filteredData[\"lines\"]:\n",
    "        for word in line.split():\n",
    "            wordCounts[word] += 1\n",
    "\n",
    "    # If there are words the user wants weighted \n",
    "    if wordWeights:\n",
    "        for word, weight in wordWeights.items():\n",
    "            wordCounts[word] *= weight\n",
    "    \n",
    "    return wordCounts"
   ]
  },
  {
   "cell_type": "code",
   "execution_count": 47,
   "metadata": {},
   "outputs": [
    {
     "name": "stdout",
     "output_type": "stream",
     "text": [
      "{'you': 0.05, 'i': 0.05, 'the': 0.05, 'to': 0.05, 'a': 0.05, 'and': 0.05, 'it': 0.05, 'of': 0.05, 'that': 0.05, 'oh': 0.05, 'well': 0.05, 'in': 0.05, 'me': 0.05, 'my': 0.05, 'this': 0.05, 'is': 0.05, 'for': 0.05, 'just': 0.05, 'im': 0.05, 'have': 0.05, 'what': 0.05, 'know': 0.05, 'no': 0.05, 'your': 0.05, 'on': 0.05, 'was': 0.05, 'be': 0.05, 'its': 0.05, 'all': 0.05, 'we': 0.05, 'with': 0.05, 'not': 0.05, 'dont': 0.05, 'so': 0.05, 'but': 0.05, 'right': 0.05, 'do': 0.05, 'are': 0.05, 'yes': 0.05, 'about': 0.05, 'he': 0.05, 'here': 0.05, 'niles': 0.05, 'youre': 0.05, 'like': 0.05, 'out': 0.05, 'get': 0.05, 'at': 0.05, 'her': 0.05, 'if': 0.05, 'frasier': 0.05, 'up': 0.05, 'now': 0.05, 'can': 0.05, 'dad': 0.05, 'were': 0.05, 'go': 0.05, 'one': 0.05, 'thats': 0.05, 'think': 0.05, 'going': 0.05, 'there': 0.05, 'she': 0.05, 'see': 0.05, 'as': 0.05, 'how': 0.05, 'got': 0.05, 'him': 0.05, 'good': 0.05, 'ill': 0.05, 'roz': 0.05, 'time': 0.05, 'really': 0.05, 'did': 0.05, 'when': 0.05, 'little': 0.05, 'would': 0.05, 'yeah': 0.05, 'crane': 0.05, 'come': 0.05, 'why': 0.05, 'his': 0.05, 'an': 0.05, 'ive': 0.05, 'some': 0.05, 'had': 0.05, 'want': 0.05, 'could': 0.05, 'been': 0.05, 'look': 0.05, 'from': 0.05, 'they': 0.05, 'thank': 0.05, 'daphne': 0.05, 'sorry': 0.05, 'back': 0.05, 'hey': 0.05, 'say': 0.05, 'dr': 0.05, 'tell': 0.05, 'our': 0.05, 'cant': 0.05, 'hes': 0.05, 'who': 0.05, 'then': 0.05, 'hello': 0.05, 'too': 0.05, 'will': 0.05, 'way': 0.05, 'take': 0.05, 'us': 0.05, 'something': 0.05, 'very': 0.05, 'down': 0.05, 'didnt': 0.05, 'god': 0.05, 'by': 0.05, 'off': 0.05, 'over': 0.05, 'uh': 0.05, 'never': 0.05, 'please': 0.05, 'more': 0.05, 'two': 0.05, 'should': 0.05, 'sure': 0.05, 'make': 0.05, 'thing': 0.05, 'mean': 0.05, 'shes': 0.05, 'am': 0.05, 'has': 0.05, 'id': 0.05, 'or': 0.05, 'thought': 0.05, 'them': 0.05, 'let': 0.05, 'man': 0.05, 'love': 0.05, 'theres': 0.05, 'said': 0.05, 'great': 0.05, 'people': 0.05, 'maybe': 0.05, 'night': 0.05, 'need': 0.05, 'still': 0.05, 'last': 0.05, 'even': 0.05, 'okay': 0.05, 'much': 0.05, 'give': 0.05, 'show': 0.05, 'only': 0.05, 'first': 0.05, 'because': 0.05, 'into': 0.05, 'again': 0.05, 'doing': 0.05, 'call': 0.05, 'any': 0.05, 'course': 0.05, 'these': 0.05, 'actually': 0.05, 'where': 0.05, 'youve': 0.05, 'hi': 0.05, 'listen': 0.05, 'day': 0.05, 'those': 0.05, 'after': 0.05, 'wait': 0.05, 'nice': 0.05, 'better': 0.05, 'ah': 0.05, 'lets': 0.05, 'things': 0.05, 'thanks': 0.05, 'feel': 0.05, 'whats': 0.05, 'before': 0.05, 'isnt': 0.05, 'talk': 0.05, 'woman': 0.05, 'new': 0.05, 'put': 0.05, 'always': 0.05, 'than': 0.05, 'other': 0.05, 'old': 0.05, 'anything': 0.05, 'getting': 0.05, 'maris': 0.05, 'help': 0.05, 'guess': 0.05, 'fine': 0.05, 'stop': 0.05, 'told': 0.05, 'life': 0.05, 'ever': 0.05, 'might': 0.05, 'nothing': 0.05, 'home': 0.05, 'around': 0.05, 'believe': 0.05, 'gonna': 0.05, 'years': 0.05, 'must': 0.05, 'mind': 0.05, 'someone': 0.05, 'big': 0.05, 'work': 0.05, 'tonight': 0.05, 'find': 0.05, 'bit': 0.05, 'may': 0.05, 'long': 0.05, 'hear': 0.05, 'made': 0.05, 'through': 0.05, 'remember': 0.05, 'hell': 0.05, 'next': 0.05, 'does': 0.05, 'talking': 0.05, 'myself': 0.05, 'room': 0.05, 'theyre': 0.05, 'having': 0.05, 'together': 0.05, 'try': 0.05, 'today': 0.05, 'another': 0.05, 'keep': 0.05, 'dinner': 0.05, 'doesnt': 0.05, 'being': 0.05, 'bad': 0.05, 'guys': 0.05, 'excuse': 0.05, 'i’m': 0.05, 'every': 0.05, 'youll': 0.05, 'morning': 0.05, 'lot': 0.05, 'ask': 0.05, 'guy': 0.05, 'date': 0.05, 'eddie': 0.05, 'kind': 0.05}\n"
     ]
    },
    {
     "data": {
      "image/png": "[encoded data removed]",
      "text/plain": [
       "<Figure size 1000x600 with 1 Axes>"
      ]
     },
     "metadata": {},
     "output_type": "display_data"
    }
   ],
   "source": [
    "def wordFrequencyChart(data, character: str, numWordsDisplay: int=None, topNWeightedWords=None, wordWeight=.1):\n",
    "    \"\"\"This function makes a plot showing the word frequency of a specific character\"\"\"\n",
    "    # Create plot\n",
    "    fig, ax = plt.subplots(figsize=(10,6))\n",
    "    fig.tight_layout(pad=7.5)\n",
    "    fig.set_facecolor('White')\n",
    "\n",
    "    # Get word weights\n",
    "    wordWeights = {}\n",
    "    for word in getNMostCommonWords(topNWeightedWords):\n",
    "        wordWeights[word] = wordWeight\n",
    "\n",
    "    print(wordWeights)\n",
    "    # Get word counts for character\n",
    "    characterCounts = list(getWordCounts(data, character, wordWeights).items())\n",
    "    characterCounts.sort(key=lambda wordCount: wordCount[1], reverse=True)\n",
    "    # If a max number of words is specified then select only those words\n",
    "    if numWordsDisplay:\n",
    "        characterCounts = characterCounts[:numWordsDisplay]\n",
    "\n",
    "    # Get the words and frequencies on their own\n",
    "    words = [x[0].title() for x in characterCounts]\n",
    "    frequencies = [x[1] for x in characterCounts]\n",
    "\n",
    "    # Create bars\n",
    "    ax.bar(words, frequencies)\n",
    "    ax.set_xlabel(\"Word\", fontsize=14)\n",
    "    ax.set_ylabel(\"Word Count\", fontsize=14)\n",
    "    ax.set_title(f'{character.title()} Word Counts', fontsize = 16)\n",
    "    ax.tick_params(axis='both', which='major', labelsize=13)\n",
    "    ax.set_xticklabels(words, rotation=40)\n",
    "\n",
    "wordFrequencyChart(data, \"Frasier\", 15, 250, .05)"
   ]
  }
 ],
 "metadata": {
  "kernelspec": {
   "display_name": "base",
   "language": "python",
   "name": "python3"
  },
  "language_info": {
   "codemirror_mode": {
    "name": "ipython",
    "version": 3
   },
   "file_extension": ".py",
   "mimetype": "text/x-python",
   "name": "python",
   "nbconvert_exporter": "python",
   "pygments_lexer": "ipython3",
   "version": "3.12.7"
  }
 },
 "nbformat": 4,
 "nbformat_minor": 2
}
